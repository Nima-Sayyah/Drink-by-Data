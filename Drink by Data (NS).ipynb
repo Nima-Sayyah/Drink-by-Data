{
 "cells": [
  {
   "cell_type": "markdown",
   "id": "48d946f0",
   "metadata": {},
   "source": [
    "# Drink By Data\n",
    "### by Nima Sayyah\n",
    "\n",
    "![nswine.png](nswine.png)"
   ]
  },
  {
   "cell_type": "markdown",
   "id": "63aff2d3",
   "metadata": {},
   "source": [
    "\n",
    "## Table of Contents\n",
    "- [Introduction](#intro)\n",
    "- [Exploratory Data Analysis](#eda)\n",
    "- [Outcomes](#conclusions)\n",
    "\n",
    "<a id='intro'></a>\n",
    "## Introduction\n",
    "\n",
    "For this project I implemented CRISP-DM Process over Wine Rating dataset extracted from Kaggle. The process consists of:\n",
    "1. Business Understanding\n",
    "2. Data Understanding\n",
    "3. Prepare Data\n",
    "4. Data Modeling\n",
    "5. Evaluate the Results\n",
    "6. Deploy\n",
    "\n",
    "## Business Understanding\n",
    "\n",
    "There are many varieties of wines in the market. It may sometimes turn into a dilemma if you are a wine lover but don't have expert knowledge that helps you selecting the best wine for the best value. I always stick to a random selection without reasonably justifying my choice but merely the value. I understand having a slightly more insight could help me picking a better choice. However, what could contribute into this difficult decision making is the situation for which we have to make a selection. Is the wine for a quiet night personal use? Is it for a party? Is it a present?. There are a few questions that can be asked attempting to resolve the dilemma.\n",
    "\n",
    "- Where the best wines originate?\n",
    "- Is there a correlation between the quality and price?\n",
    "- Which certain wine varieties considered having a better quality?\n",
    "- What is the best wine in each price range? \n",
    "- What words are most used when describing wine?"
   ]
  },
  {
   "cell_type": "markdown",
   "id": "faf52dcd",
   "metadata": {},
   "source": [
    "<a id='eda'></a>\n",
    "## Exploratory Data Analysis"
   ]
  },
  {
   "cell_type": "code",
   "execution_count": 5,
   "id": "01013a30",
   "metadata": {},
   "outputs": [],
   "source": [
    "# Importing the required libraries \n",
    "import pandas as pd\n",
    "import numpy as np\n",
    "import matplotlib.pyplot as plt\n",
    "import seaborn as sns\n",
    "sns.set()\n",
    "from wordcloud import WordCloud, STOPWORDS\n",
    "from PIL import Image\n",
    "%matplotlib inline"
   ]
  },
  {
   "cell_type": "code",
   "execution_count": 6,
   "id": "b927a552",
   "metadata": {},
   "outputs": [],
   "source": [
    "# Reading the data\n",
    "df = pd.read_csv(\"winemag-data-130k-v2.csv\")"
   ]
  },
  {
   "cell_type": "code",
   "execution_count": 7,
   "id": "5f2bfc03",
   "metadata": {},
   "outputs": [
    {
     "data": {
      "text/html": [
       "<div>\n",
       "<style scoped>\n",
       "    .dataframe tbody tr th:only-of-type {\n",
       "        vertical-align: middle;\n",
       "    }\n",
       "\n",
       "    .dataframe tbody tr th {\n",
       "        vertical-align: top;\n",
       "    }\n",
       "\n",
       "    .dataframe thead th {\n",
       "        text-align: right;\n",
       "    }\n",
       "</style>\n",
       "<table border=\"1\" class=\"dataframe\">\n",
       "  <thead>\n",
       "    <tr style=\"text-align: right;\">\n",
       "      <th></th>\n",
       "      <th>Unnamed: 0</th>\n",
       "      <th>country</th>\n",
       "      <th>description</th>\n",
       "      <th>designation</th>\n",
       "      <th>points</th>\n",
       "      <th>price</th>\n",
       "      <th>province</th>\n",
       "      <th>region_1</th>\n",
       "      <th>region_2</th>\n",
       "      <th>taster_name</th>\n",
       "      <th>taster_twitter_handle</th>\n",
       "      <th>title</th>\n",
       "      <th>variety</th>\n",
       "      <th>winery</th>\n",
       "    </tr>\n",
       "  </thead>\n",
       "  <tbody>\n",
       "    <tr>\n",
       "      <th>0</th>\n",
       "      <td>0</td>\n",
       "      <td>Italy</td>\n",
       "      <td>Aromas include tropical fruit, broom, brimston...</td>\n",
       "      <td>Vulkà Bianco</td>\n",
       "      <td>87</td>\n",
       "      <td>NaN</td>\n",
       "      <td>Sicily &amp; Sardinia</td>\n",
       "      <td>Etna</td>\n",
       "      <td>NaN</td>\n",
       "      <td>Kerin O’Keefe</td>\n",
       "      <td>@kerinokeefe</td>\n",
       "      <td>Nicosia 2013 Vulkà Bianco  (Etna)</td>\n",
       "      <td>White Blend</td>\n",
       "      <td>Nicosia</td>\n",
       "    </tr>\n",
       "    <tr>\n",
       "      <th>1</th>\n",
       "      <td>1</td>\n",
       "      <td>Portugal</td>\n",
       "      <td>This is ripe and fruity, a wine that is smooth...</td>\n",
       "      <td>Avidagos</td>\n",
       "      <td>87</td>\n",
       "      <td>15.0</td>\n",
       "      <td>Douro</td>\n",
       "      <td>NaN</td>\n",
       "      <td>NaN</td>\n",
       "      <td>Roger Voss</td>\n",
       "      <td>@vossroger</td>\n",
       "      <td>Quinta dos Avidagos 2011 Avidagos Red (Douro)</td>\n",
       "      <td>Portuguese Red</td>\n",
       "      <td>Quinta dos Avidagos</td>\n",
       "    </tr>\n",
       "    <tr>\n",
       "      <th>2</th>\n",
       "      <td>2</td>\n",
       "      <td>US</td>\n",
       "      <td>Tart and snappy, the flavors of lime flesh and...</td>\n",
       "      <td>NaN</td>\n",
       "      <td>87</td>\n",
       "      <td>14.0</td>\n",
       "      <td>Oregon</td>\n",
       "      <td>Willamette Valley</td>\n",
       "      <td>Willamette Valley</td>\n",
       "      <td>Paul Gregutt</td>\n",
       "      <td>@paulgwine</td>\n",
       "      <td>Rainstorm 2013 Pinot Gris (Willamette Valley)</td>\n",
       "      <td>Pinot Gris</td>\n",
       "      <td>Rainstorm</td>\n",
       "    </tr>\n",
       "    <tr>\n",
       "      <th>3</th>\n",
       "      <td>3</td>\n",
       "      <td>US</td>\n",
       "      <td>Pineapple rind, lemon pith and orange blossom ...</td>\n",
       "      <td>Reserve Late Harvest</td>\n",
       "      <td>87</td>\n",
       "      <td>13.0</td>\n",
       "      <td>Michigan</td>\n",
       "      <td>Lake Michigan Shore</td>\n",
       "      <td>NaN</td>\n",
       "      <td>Alexander Peartree</td>\n",
       "      <td>NaN</td>\n",
       "      <td>St. Julian 2013 Reserve Late Harvest Riesling ...</td>\n",
       "      <td>Riesling</td>\n",
       "      <td>St. Julian</td>\n",
       "    </tr>\n",
       "    <tr>\n",
       "      <th>4</th>\n",
       "      <td>4</td>\n",
       "      <td>US</td>\n",
       "      <td>Much like the regular bottling from 2012, this...</td>\n",
       "      <td>Vintner's Reserve Wild Child Block</td>\n",
       "      <td>87</td>\n",
       "      <td>65.0</td>\n",
       "      <td>Oregon</td>\n",
       "      <td>Willamette Valley</td>\n",
       "      <td>Willamette Valley</td>\n",
       "      <td>Paul Gregutt</td>\n",
       "      <td>@paulgwine</td>\n",
       "      <td>Sweet Cheeks 2012 Vintner's Reserve Wild Child...</td>\n",
       "      <td>Pinot Noir</td>\n",
       "      <td>Sweet Cheeks</td>\n",
       "    </tr>\n",
       "    <tr>\n",
       "      <th>...</th>\n",
       "      <td>...</td>\n",
       "      <td>...</td>\n",
       "      <td>...</td>\n",
       "      <td>...</td>\n",
       "      <td>...</td>\n",
       "      <td>...</td>\n",
       "      <td>...</td>\n",
       "      <td>...</td>\n",
       "      <td>...</td>\n",
       "      <td>...</td>\n",
       "      <td>...</td>\n",
       "      <td>...</td>\n",
       "      <td>...</td>\n",
       "      <td>...</td>\n",
       "    </tr>\n",
       "    <tr>\n",
       "      <th>129966</th>\n",
       "      <td>129966</td>\n",
       "      <td>Germany</td>\n",
       "      <td>Notes of honeysuckle and cantaloupe sweeten th...</td>\n",
       "      <td>Brauneberger Juffer-Sonnenuhr Spätlese</td>\n",
       "      <td>90</td>\n",
       "      <td>28.0</td>\n",
       "      <td>Mosel</td>\n",
       "      <td>NaN</td>\n",
       "      <td>NaN</td>\n",
       "      <td>Anna Lee C. Iijima</td>\n",
       "      <td>NaN</td>\n",
       "      <td>Dr. H. Thanisch (Erben Müller-Burggraef) 2013 ...</td>\n",
       "      <td>Riesling</td>\n",
       "      <td>Dr. H. Thanisch (Erben Müller-Burggraef)</td>\n",
       "    </tr>\n",
       "    <tr>\n",
       "      <th>129967</th>\n",
       "      <td>129967</td>\n",
       "      <td>US</td>\n",
       "      <td>Citation is given as much as a decade of bottl...</td>\n",
       "      <td>NaN</td>\n",
       "      <td>90</td>\n",
       "      <td>75.0</td>\n",
       "      <td>Oregon</td>\n",
       "      <td>Oregon</td>\n",
       "      <td>Oregon Other</td>\n",
       "      <td>Paul Gregutt</td>\n",
       "      <td>@paulgwine</td>\n",
       "      <td>Citation 2004 Pinot Noir (Oregon)</td>\n",
       "      <td>Pinot Noir</td>\n",
       "      <td>Citation</td>\n",
       "    </tr>\n",
       "    <tr>\n",
       "      <th>129968</th>\n",
       "      <td>129968</td>\n",
       "      <td>France</td>\n",
       "      <td>Well-drained gravel soil gives this wine its c...</td>\n",
       "      <td>Kritt</td>\n",
       "      <td>90</td>\n",
       "      <td>30.0</td>\n",
       "      <td>Alsace</td>\n",
       "      <td>Alsace</td>\n",
       "      <td>NaN</td>\n",
       "      <td>Roger Voss</td>\n",
       "      <td>@vossroger</td>\n",
       "      <td>Domaine Gresser 2013 Kritt Gewurztraminer (Als...</td>\n",
       "      <td>Gewürztraminer</td>\n",
       "      <td>Domaine Gresser</td>\n",
       "    </tr>\n",
       "    <tr>\n",
       "      <th>129969</th>\n",
       "      <td>129969</td>\n",
       "      <td>France</td>\n",
       "      <td>A dry style of Pinot Gris, this is crisp with ...</td>\n",
       "      <td>NaN</td>\n",
       "      <td>90</td>\n",
       "      <td>32.0</td>\n",
       "      <td>Alsace</td>\n",
       "      <td>Alsace</td>\n",
       "      <td>NaN</td>\n",
       "      <td>Roger Voss</td>\n",
       "      <td>@vossroger</td>\n",
       "      <td>Domaine Marcel Deiss 2012 Pinot Gris (Alsace)</td>\n",
       "      <td>Pinot Gris</td>\n",
       "      <td>Domaine Marcel Deiss</td>\n",
       "    </tr>\n",
       "    <tr>\n",
       "      <th>129970</th>\n",
       "      <td>129970</td>\n",
       "      <td>France</td>\n",
       "      <td>Big, rich and off-dry, this is powered by inte...</td>\n",
       "      <td>Lieu-dit Harth Cuvée Caroline</td>\n",
       "      <td>90</td>\n",
       "      <td>21.0</td>\n",
       "      <td>Alsace</td>\n",
       "      <td>Alsace</td>\n",
       "      <td>NaN</td>\n",
       "      <td>Roger Voss</td>\n",
       "      <td>@vossroger</td>\n",
       "      <td>Domaine Schoffit 2012 Lieu-dit Harth Cuvée Car...</td>\n",
       "      <td>Gewürztraminer</td>\n",
       "      <td>Domaine Schoffit</td>\n",
       "    </tr>\n",
       "  </tbody>\n",
       "</table>\n",
       "<p>129971 rows × 14 columns</p>\n",
       "</div>"
      ],
      "text/plain": [
       "        Unnamed: 0   country  \\\n",
       "0                0     Italy   \n",
       "1                1  Portugal   \n",
       "2                2        US   \n",
       "3                3        US   \n",
       "4                4        US   \n",
       "...            ...       ...   \n",
       "129966      129966   Germany   \n",
       "129967      129967        US   \n",
       "129968      129968    France   \n",
       "129969      129969    France   \n",
       "129970      129970    France   \n",
       "\n",
       "                                              description  \\\n",
       "0       Aromas include tropical fruit, broom, brimston...   \n",
       "1       This is ripe and fruity, a wine that is smooth...   \n",
       "2       Tart and snappy, the flavors of lime flesh and...   \n",
       "3       Pineapple rind, lemon pith and orange blossom ...   \n",
       "4       Much like the regular bottling from 2012, this...   \n",
       "...                                                   ...   \n",
       "129966  Notes of honeysuckle and cantaloupe sweeten th...   \n",
       "129967  Citation is given as much as a decade of bottl...   \n",
       "129968  Well-drained gravel soil gives this wine its c...   \n",
       "129969  A dry style of Pinot Gris, this is crisp with ...   \n",
       "129970  Big, rich and off-dry, this is powered by inte...   \n",
       "\n",
       "                                   designation  points  price  \\\n",
       "0                                 Vulkà Bianco      87    NaN   \n",
       "1                                     Avidagos      87   15.0   \n",
       "2                                          NaN      87   14.0   \n",
       "3                         Reserve Late Harvest      87   13.0   \n",
       "4           Vintner's Reserve Wild Child Block      87   65.0   \n",
       "...                                        ...     ...    ...   \n",
       "129966  Brauneberger Juffer-Sonnenuhr Spätlese      90   28.0   \n",
       "129967                                     NaN      90   75.0   \n",
       "129968                                   Kritt      90   30.0   \n",
       "129969                                     NaN      90   32.0   \n",
       "129970           Lieu-dit Harth Cuvée Caroline      90   21.0   \n",
       "\n",
       "                 province             region_1           region_2  \\\n",
       "0       Sicily & Sardinia                 Etna                NaN   \n",
       "1                   Douro                  NaN                NaN   \n",
       "2                  Oregon    Willamette Valley  Willamette Valley   \n",
       "3                Michigan  Lake Michigan Shore                NaN   \n",
       "4                  Oregon    Willamette Valley  Willamette Valley   \n",
       "...                   ...                  ...                ...   \n",
       "129966              Mosel                  NaN                NaN   \n",
       "129967             Oregon               Oregon       Oregon Other   \n",
       "129968             Alsace               Alsace                NaN   \n",
       "129969             Alsace               Alsace                NaN   \n",
       "129970             Alsace               Alsace                NaN   \n",
       "\n",
       "               taster_name taster_twitter_handle  \\\n",
       "0            Kerin O’Keefe          @kerinokeefe   \n",
       "1               Roger Voss            @vossroger   \n",
       "2             Paul Gregutt           @paulgwine    \n",
       "3       Alexander Peartree                   NaN   \n",
       "4             Paul Gregutt           @paulgwine    \n",
       "...                    ...                   ...   \n",
       "129966  Anna Lee C. Iijima                   NaN   \n",
       "129967        Paul Gregutt           @paulgwine    \n",
       "129968          Roger Voss            @vossroger   \n",
       "129969          Roger Voss            @vossroger   \n",
       "129970          Roger Voss            @vossroger   \n",
       "\n",
       "                                                    title         variety  \\\n",
       "0                       Nicosia 2013 Vulkà Bianco  (Etna)     White Blend   \n",
       "1           Quinta dos Avidagos 2011 Avidagos Red (Douro)  Portuguese Red   \n",
       "2           Rainstorm 2013 Pinot Gris (Willamette Valley)      Pinot Gris   \n",
       "3       St. Julian 2013 Reserve Late Harvest Riesling ...        Riesling   \n",
       "4       Sweet Cheeks 2012 Vintner's Reserve Wild Child...      Pinot Noir   \n",
       "...                                                   ...             ...   \n",
       "129966  Dr. H. Thanisch (Erben Müller-Burggraef) 2013 ...        Riesling   \n",
       "129967                  Citation 2004 Pinot Noir (Oregon)      Pinot Noir   \n",
       "129968  Domaine Gresser 2013 Kritt Gewurztraminer (Als...  Gewürztraminer   \n",
       "129969      Domaine Marcel Deiss 2012 Pinot Gris (Alsace)      Pinot Gris   \n",
       "129970  Domaine Schoffit 2012 Lieu-dit Harth Cuvée Car...  Gewürztraminer   \n",
       "\n",
       "                                          winery  \n",
       "0                                        Nicosia  \n",
       "1                            Quinta dos Avidagos  \n",
       "2                                      Rainstorm  \n",
       "3                                     St. Julian  \n",
       "4                                   Sweet Cheeks  \n",
       "...                                          ...  \n",
       "129966  Dr. H. Thanisch (Erben Müller-Burggraef)  \n",
       "129967                                  Citation  \n",
       "129968                           Domaine Gresser  \n",
       "129969                      Domaine Marcel Deiss  \n",
       "129970                          Domaine Schoffit  \n",
       "\n",
       "[129971 rows x 14 columns]"
      ]
     },
     "execution_count": 7,
     "metadata": {},
     "output_type": "execute_result"
    }
   ],
   "source": [
    "# Exploring the dataframe \n",
    "df"
   ]
  },
  {
   "cell_type": "markdown",
   "id": "12b110e4",
   "metadata": {},
   "source": [
    "### Data Observation"
   ]
  },
  {
   "cell_type": "markdown",
   "id": "d8cf7360",
   "metadata": {},
   "source": [
    "The data shows it contains 129971 rows and 14 columns: \n",
    "\n",
    "`df` columns:\n",
    " - **unnamed:** Index column that is uneeded\n",
    " - **country:** Countries where the wines produced\n",
    " - **description:** Description of the wines\n",
    " - **designation:** Plantations of grapevines from which wines are produced\n",
    " - **points:** Number of points scored for each wine \n",
    " - **price:** The price of the bottle of wine\n",
    " - **province:** The province where the wines produced \n",
    " - **region_1:** The region where the wines produced\n",
    " - **region_2:** More specific regions where the wines produced\n",
    " - **taster_name:** The name of the reviwer\n",
    " - **taster_twitter_handle:** The Twitter account of the reviewer\n",
    " - **title:** The name and year of the reviewed Wine \n",
    " - **variety:** The type of grapes used to produce the wine\n",
    " - **winery:** The winery where the wines were produced"
   ]
  },
  {
   "cell_type": "code",
   "execution_count": 8,
   "id": "4083528e",
   "metadata": {},
   "outputs": [
    {
     "name": "stdout",
     "output_type": "stream",
     "text": [
      "<class 'pandas.core.frame.DataFrame'>\n",
      "RangeIndex: 129971 entries, 0 to 129970\n",
      "Data columns (total 14 columns):\n",
      " #   Column                 Non-Null Count   Dtype  \n",
      "---  ------                 --------------   -----  \n",
      " 0   Unnamed: 0             129971 non-null  int64  \n",
      " 1   country                129908 non-null  object \n",
      " 2   description            129971 non-null  object \n",
      " 3   designation            92506 non-null   object \n",
      " 4   points                 129971 non-null  int64  \n",
      " 5   price                  120975 non-null  float64\n",
      " 6   province               129908 non-null  object \n",
      " 7   region_1               108724 non-null  object \n",
      " 8   region_2               50511 non-null   object \n",
      " 9   taster_name            103727 non-null  object \n",
      " 10  taster_twitter_handle  98758 non-null   object \n",
      " 11  title                  129971 non-null  object \n",
      " 12  variety                129970 non-null  object \n",
      " 13  winery                 129971 non-null  object \n",
      "dtypes: float64(1), int64(2), object(11)\n",
      "memory usage: 13.9+ MB\n"
     ]
    }
   ],
   "source": [
    "# Uderstanding the datatypes and null values\n",
    "df.info()"
   ]
  },
  {
   "cell_type": "code",
   "execution_count": 9,
   "id": "95c77783",
   "metadata": {},
   "outputs": [
    {
     "data": {
      "text/plain": [
       "0"
      ]
     },
     "execution_count": 9,
     "metadata": {},
     "output_type": "execute_result"
    }
   ],
   "source": [
    "# Checking for duplicate rows\n",
    "df.duplicated().sum()"
   ]
  },
  {
   "cell_type": "markdown",
   "id": "61c8b8a7",
   "metadata": {},
   "source": [
    "At this stage it is important to understand what columns are the least required to proceed our analysis with. These are the columns which will not add usefull information.\n",
    "\n",
    "- **Unnamed** is an index column which can be removed. \n",
    "- **region_2** is redundant as region_1 will suffice.\n",
    "- **taster_name** contains unimportant information.\n",
    "- **taster_twitter_handle** contains unimportant information. \n",
    "- **designation** contains unimportant information.\n",
    "\n",
    "It is also clear from the description that there are considrable null or missing values in certain columns:\n",
    "\n",
    "- **country**\n",
    "- **price**\n",
    "- **province**\n",
    "- **variety**\n",
    "- **region_1**"
   ]
  },
  {
   "cell_type": "code",
   "execution_count": 10,
   "id": "d8362eb8",
   "metadata": {},
   "outputs": [],
   "source": [
    "# Making a copy to safely change the dataframe\n",
    "df1 = df.copy()"
   ]
  },
  {
   "cell_type": "code",
   "execution_count": 11,
   "id": "b55b4f9a",
   "metadata": {},
   "outputs": [],
   "source": [
    "# Dropping the unneeded columns\n",
    "df1 = df1.drop(['Unnamed: 0','region_2', 'taster_name', 'taster_twitter_handle', 'designation'], axis=1)"
   ]
  },
  {
   "cell_type": "code",
   "execution_count": 12,
   "id": "31b46f07",
   "metadata": {},
   "outputs": [
    {
     "data": {
      "text/html": [
       "<div>\n",
       "<style scoped>\n",
       "    .dataframe tbody tr th:only-of-type {\n",
       "        vertical-align: middle;\n",
       "    }\n",
       "\n",
       "    .dataframe tbody tr th {\n",
       "        vertical-align: top;\n",
       "    }\n",
       "\n",
       "    .dataframe thead th {\n",
       "        text-align: right;\n",
       "    }\n",
       "</style>\n",
       "<table border=\"1\" class=\"dataframe\">\n",
       "  <thead>\n",
       "    <tr style=\"text-align: right;\">\n",
       "      <th></th>\n",
       "      <th>country</th>\n",
       "      <th>description</th>\n",
       "      <th>points</th>\n",
       "      <th>price</th>\n",
       "      <th>province</th>\n",
       "      <th>region_1</th>\n",
       "      <th>title</th>\n",
       "      <th>variety</th>\n",
       "      <th>winery</th>\n",
       "    </tr>\n",
       "  </thead>\n",
       "  <tbody>\n",
       "    <tr>\n",
       "      <th>0</th>\n",
       "      <td>Italy</td>\n",
       "      <td>Aromas include tropical fruit, broom, brimston...</td>\n",
       "      <td>87</td>\n",
       "      <td>NaN</td>\n",
       "      <td>Sicily &amp; Sardinia</td>\n",
       "      <td>Etna</td>\n",
       "      <td>Nicosia 2013 Vulkà Bianco  (Etna)</td>\n",
       "      <td>White Blend</td>\n",
       "      <td>Nicosia</td>\n",
       "    </tr>\n",
       "    <tr>\n",
       "      <th>1</th>\n",
       "      <td>Portugal</td>\n",
       "      <td>This is ripe and fruity, a wine that is smooth...</td>\n",
       "      <td>87</td>\n",
       "      <td>15.0</td>\n",
       "      <td>Douro</td>\n",
       "      <td>NaN</td>\n",
       "      <td>Quinta dos Avidagos 2011 Avidagos Red (Douro)</td>\n",
       "      <td>Portuguese Red</td>\n",
       "      <td>Quinta dos Avidagos</td>\n",
       "    </tr>\n",
       "    <tr>\n",
       "      <th>2</th>\n",
       "      <td>US</td>\n",
       "      <td>Tart and snappy, the flavors of lime flesh and...</td>\n",
       "      <td>87</td>\n",
       "      <td>14.0</td>\n",
       "      <td>Oregon</td>\n",
       "      <td>Willamette Valley</td>\n",
       "      <td>Rainstorm 2013 Pinot Gris (Willamette Valley)</td>\n",
       "      <td>Pinot Gris</td>\n",
       "      <td>Rainstorm</td>\n",
       "    </tr>\n",
       "    <tr>\n",
       "      <th>3</th>\n",
       "      <td>US</td>\n",
       "      <td>Pineapple rind, lemon pith and orange blossom ...</td>\n",
       "      <td>87</td>\n",
       "      <td>13.0</td>\n",
       "      <td>Michigan</td>\n",
       "      <td>Lake Michigan Shore</td>\n",
       "      <td>St. Julian 2013 Reserve Late Harvest Riesling ...</td>\n",
       "      <td>Riesling</td>\n",
       "      <td>St. Julian</td>\n",
       "    </tr>\n",
       "    <tr>\n",
       "      <th>4</th>\n",
       "      <td>US</td>\n",
       "      <td>Much like the regular bottling from 2012, this...</td>\n",
       "      <td>87</td>\n",
       "      <td>65.0</td>\n",
       "      <td>Oregon</td>\n",
       "      <td>Willamette Valley</td>\n",
       "      <td>Sweet Cheeks 2012 Vintner's Reserve Wild Child...</td>\n",
       "      <td>Pinot Noir</td>\n",
       "      <td>Sweet Cheeks</td>\n",
       "    </tr>\n",
       "  </tbody>\n",
       "</table>\n",
       "</div>"
      ],
      "text/plain": [
       "    country                                        description  points  price  \\\n",
       "0     Italy  Aromas include tropical fruit, broom, brimston...      87    NaN   \n",
       "1  Portugal  This is ripe and fruity, a wine that is smooth...      87   15.0   \n",
       "2        US  Tart and snappy, the flavors of lime flesh and...      87   14.0   \n",
       "3        US  Pineapple rind, lemon pith and orange blossom ...      87   13.0   \n",
       "4        US  Much like the regular bottling from 2012, this...      87   65.0   \n",
       "\n",
       "            province             region_1  \\\n",
       "0  Sicily & Sardinia                 Etna   \n",
       "1              Douro                  NaN   \n",
       "2             Oregon    Willamette Valley   \n",
       "3           Michigan  Lake Michigan Shore   \n",
       "4             Oregon    Willamette Valley   \n",
       "\n",
       "                                               title         variety  \\\n",
       "0                  Nicosia 2013 Vulkà Bianco  (Etna)     White Blend   \n",
       "1      Quinta dos Avidagos 2011 Avidagos Red (Douro)  Portuguese Red   \n",
       "2      Rainstorm 2013 Pinot Gris (Willamette Valley)      Pinot Gris   \n",
       "3  St. Julian 2013 Reserve Late Harvest Riesling ...        Riesling   \n",
       "4  Sweet Cheeks 2012 Vintner's Reserve Wild Child...      Pinot Noir   \n",
       "\n",
       "                winery  \n",
       "0              Nicosia  \n",
       "1  Quinta dos Avidagos  \n",
       "2            Rainstorm  \n",
       "3           St. Julian  \n",
       "4         Sweet Cheeks  "
      ]
     },
     "execution_count": 12,
     "metadata": {},
     "output_type": "execute_result"
    }
   ],
   "source": [
    "# Exploring a glimps of the new dataframe\n",
    "df1.head()"
   ]
  },
  {
   "cell_type": "code",
   "execution_count": 13,
   "id": "7d2c0457",
   "metadata": {},
   "outputs": [
    {
     "data": {
      "text/html": [
       "<div>\n",
       "<style scoped>\n",
       "    .dataframe tbody tr th:only-of-type {\n",
       "        vertical-align: middle;\n",
       "    }\n",
       "\n",
       "    .dataframe tbody tr th {\n",
       "        vertical-align: top;\n",
       "    }\n",
       "\n",
       "    .dataframe thead th {\n",
       "        text-align: right;\n",
       "    }\n",
       "</style>\n",
       "<table border=\"1\" class=\"dataframe\">\n",
       "  <thead>\n",
       "    <tr style=\"text-align: right;\">\n",
       "      <th></th>\n",
       "      <th>points</th>\n",
       "      <th>price</th>\n",
       "    </tr>\n",
       "  </thead>\n",
       "  <tbody>\n",
       "    <tr>\n",
       "      <th>count</th>\n",
       "      <td>129971.000000</td>\n",
       "      <td>120975.000000</td>\n",
       "    </tr>\n",
       "    <tr>\n",
       "      <th>mean</th>\n",
       "      <td>88.447138</td>\n",
       "      <td>35.363389</td>\n",
       "    </tr>\n",
       "    <tr>\n",
       "      <th>std</th>\n",
       "      <td>3.039730</td>\n",
       "      <td>41.022218</td>\n",
       "    </tr>\n",
       "    <tr>\n",
       "      <th>min</th>\n",
       "      <td>80.000000</td>\n",
       "      <td>4.000000</td>\n",
       "    </tr>\n",
       "    <tr>\n",
       "      <th>25%</th>\n",
       "      <td>86.000000</td>\n",
       "      <td>17.000000</td>\n",
       "    </tr>\n",
       "    <tr>\n",
       "      <th>50%</th>\n",
       "      <td>88.000000</td>\n",
       "      <td>25.000000</td>\n",
       "    </tr>\n",
       "    <tr>\n",
       "      <th>75%</th>\n",
       "      <td>91.000000</td>\n",
       "      <td>42.000000</td>\n",
       "    </tr>\n",
       "    <tr>\n",
       "      <th>max</th>\n",
       "      <td>100.000000</td>\n",
       "      <td>3300.000000</td>\n",
       "    </tr>\n",
       "  </tbody>\n",
       "</table>\n",
       "</div>"
      ],
      "text/plain": [
       "              points          price\n",
       "count  129971.000000  120975.000000\n",
       "mean       88.447138      35.363389\n",
       "std         3.039730      41.022218\n",
       "min        80.000000       4.000000\n",
       "25%        86.000000      17.000000\n",
       "50%        88.000000      25.000000\n",
       "75%        91.000000      42.000000\n",
       "max       100.000000    3300.000000"
      ]
     },
     "execution_count": 13,
     "metadata": {},
     "output_type": "execute_result"
    }
   ],
   "source": [
    "# Generating descriptive statistic \n",
    "df1.describe()"
   ]
  },
  {
   "cell_type": "markdown",
   "id": "cdfa3661",
   "metadata": {},
   "source": [
    "The above descriptive analysis demonstrates the given range of scores given to the wines. These ratings are also used on various platforms by wine fans:\n",
    "\n",
    " - 98–100 – Classic\n",
    " - 94–97 – Superb\n",
    " - 90–93 – Excellent\n",
    " - 87–89 – Very good\n",
    " - 83–86 – Good\n",
    " - 80–82 – Acceptable\n",
    " \n",
    "We can also draw the inference that the price of wines are in dollars based on www.winemag.com. Therefore the min and max scores of **80** and **100** are given to min price of **\\\\$4** and max of **\\\\$3300** respectively."
   ]
  },
  {
   "cell_type": "code",
   "execution_count": 14,
   "id": "898b6bba",
   "metadata": {},
   "outputs": [
    {
     "data": {
      "text/plain": [
       "US                        54504\n",
       "France                    22093\n",
       "Italy                     19540\n",
       "Spain                      6645\n",
       "Portugal                   5691\n",
       "Chile                      4472\n",
       "Argentina                  3800\n",
       "Austria                    3345\n",
       "Australia                  2329\n",
       "Germany                    2165\n",
       "New Zealand                1419\n",
       "South Africa               1401\n",
       "Israel                      505\n",
       "Greece                      466\n",
       "Canada                      257\n",
       "Hungary                     146\n",
       "Bulgaria                    141\n",
       "Romania                     120\n",
       "Uruguay                     109\n",
       "Turkey                       90\n",
       "Slovenia                     87\n",
       "Georgia                      86\n",
       "England                      74\n",
       "Croatia                      73\n",
       "Mexico                       70\n",
       "Moldova                      59\n",
       "Brazil                       52\n",
       "Lebanon                      35\n",
       "Morocco                      28\n",
       "Peru                         16\n",
       "Ukraine                      14\n",
       "Serbia                       12\n",
       "Czech Republic               12\n",
       "Macedonia                    12\n",
       "Cyprus                       11\n",
       "India                         9\n",
       "Switzerland                   7\n",
       "Luxembourg                    6\n",
       "Bosnia and Herzegovina        2\n",
       "Armenia                       2\n",
       "Egypt                         1\n",
       "China                         1\n",
       "Slovakia                      1\n",
       "Name: country, dtype: int64"
      ]
     },
     "execution_count": 14,
     "metadata": {},
     "output_type": "execute_result"
    }
   ],
   "source": [
    "# Counting the number of reviews for each country\n",
    "df1.country.value_counts()"
   ]
  },
  {
   "cell_type": "markdown",
   "id": "82fa24ed",
   "metadata": {},
   "source": [
    "Unsurprisingly, the most wine reviewes are from countries with high reputation in wine production: **USA**, **France**, **Italy**, **Spain** "
   ]
  },
  {
   "cell_type": "code",
   "execution_count": 15,
   "id": "11174258",
   "metadata": {},
   "outputs": [
    {
     "data": {
      "text/plain": [
       "Pinot Noir                  13272\n",
       "Chardonnay                  11753\n",
       "Cabernet Sauvignon           9472\n",
       "Red Blend                    8946\n",
       "Bordeaux-style Red Blend     6915\n",
       "                            ...  \n",
       "Albanello                       1\n",
       "Merlot-Grenache                 1\n",
       "Xinisteri                       1\n",
       "Karasakiz                       1\n",
       "Otskhanuri Sapere               1\n",
       "Name: variety, Length: 707, dtype: int64"
      ]
     },
     "execution_count": 15,
     "metadata": {},
     "output_type": "execute_result"
    }
   ],
   "source": [
    "# Counting the number of each unique grape type(variety)\n",
    "df1.variety.value_counts()"
   ]
  },
  {
   "cell_type": "code",
   "execution_count": 16,
   "id": "a975e19a",
   "metadata": {},
   "outputs": [
    {
     "name": "stdout",
     "output_type": "stream",
     "text": [
      "<class 'pandas.core.frame.DataFrame'>\n",
      "RangeIndex: 129971 entries, 0 to 129970\n",
      "Data columns (total 9 columns):\n",
      " #   Column       Non-Null Count   Dtype  \n",
      "---  ------       --------------   -----  \n",
      " 0   country      129908 non-null  object \n",
      " 1   description  129971 non-null  object \n",
      " 2   points       129971 non-null  int64  \n",
      " 3   price        120975 non-null  float64\n",
      " 4   province     129908 non-null  object \n",
      " 5   region_1     108724 non-null  object \n",
      " 6   title        129971 non-null  object \n",
      " 7   variety      129970 non-null  object \n",
      " 8   winery       129971 non-null  object \n",
      "dtypes: float64(1), int64(1), object(7)\n",
      "memory usage: 8.9+ MB\n"
     ]
    }
   ],
   "source": [
    "# Analysing the datatypes and null values\n",
    "df1.info()"
   ]
  },
  {
   "cell_type": "code",
   "execution_count": 17,
   "id": "9a430b82",
   "metadata": {},
   "outputs": [
    {
     "data": {
      "text/plain": [
       "0.9307845596325334"
      ]
     },
     "execution_count": 17,
     "metadata": {},
     "output_type": "execute_result"
    }
   ],
   "source": [
    "# Price proportion of the data\n",
    "price_prop = df1.price.count()/df1.shape[0]\n",
    "price_prop"
   ]
  },
  {
   "cell_type": "code",
   "execution_count": 18,
   "id": "fc570f56",
   "metadata": {},
   "outputs": [
    {
     "data": {
      "text/plain": [
       "0.8365250709773718"
      ]
     },
     "execution_count": 18,
     "metadata": {},
     "output_type": "execute_result"
    }
   ],
   "source": [
    "# Region_1 proportion of data \n",
    "reg1_prop = df1.region_1.count()/df1.shape[0]\n",
    "reg1_prop"
   ]
  },
  {
   "cell_type": "code",
   "execution_count": 19,
   "id": "d5ad207f",
   "metadata": {},
   "outputs": [
    {
     "data": {
      "text/plain": [
       "21247"
      ]
     },
     "execution_count": 19,
     "metadata": {},
     "output_type": "execute_result"
    }
   ],
   "source": [
    "# Calulating missing values\n",
    "reg1_miss_val=  129971 - 108724\n",
    "reg1_miss_val"
   ]
  },
  {
   "cell_type": "code",
   "execution_count": 20,
   "id": "35c5f7c3",
   "metadata": {},
   "outputs": [
    {
     "data": {
      "text/plain": [
       "8996"
      ]
     },
     "execution_count": 20,
     "metadata": {},
     "output_type": "execute_result"
    }
   ],
   "source": [
    "# Calulating missing values\n",
    "price_miss_val=  129971 - 120975\n",
    "price_miss_val"
   ]
  },
  {
   "cell_type": "markdown",
   "id": "1a531f98",
   "metadata": {},
   "source": [
    "The above information indicates that **region_1** contains the highest missing values comparatively. Removing its missing values may not be advised at this stage. However, we will drop the rest of the columns wit missing values."
   ]
  },
  {
   "cell_type": "code",
   "execution_count": 21,
   "id": "50d1cabb",
   "metadata": {},
   "outputs": [],
   "source": [
    "# Dropping the rows of columns with missing values except region_1\n",
    "df1 = df1.dropna(how='any', subset=['country', 'price', 'province','variety', ])"
   ]
  },
  {
   "cell_type": "code",
   "execution_count": 22,
   "id": "4db39c5b",
   "metadata": {},
   "outputs": [
    {
     "name": "stdout",
     "output_type": "stream",
     "text": [
      "<class 'pandas.core.frame.DataFrame'>\n",
      "Int64Index: 120915 entries, 1 to 129970\n",
      "Data columns (total 9 columns):\n",
      " #   Column       Non-Null Count   Dtype  \n",
      "---  ------       --------------   -----  \n",
      " 0   country      120915 non-null  object \n",
      " 1   description  120915 non-null  object \n",
      " 2   points       120915 non-null  int64  \n",
      " 3   price        120915 non-null  float64\n",
      " 4   province     120915 non-null  object \n",
      " 5   region_1     101400 non-null  object \n",
      " 6   title        120915 non-null  object \n",
      " 7   variety      120915 non-null  object \n",
      " 8   winery       120915 non-null  object \n",
      "dtypes: float64(1), int64(1), object(7)\n",
      "memory usage: 9.2+ MB\n"
     ]
    }
   ],
   "source": [
    "# Testing the data after the drops\n",
    "df1.info()"
   ]
  },
  {
   "cell_type": "markdown",
   "id": "2c3eea3b",
   "metadata": {},
   "source": [
    "The **title** column in the dataframe seem to contain years which can be extracted. "
   ]
  },
  {
   "cell_type": "code",
   "execution_count": 23,
   "id": "f3338295",
   "metadata": {},
   "outputs": [],
   "source": [
    "# Creating a new column: year\n",
    "df1['year'] = df1['title'].str.extract('(\\d+)')"
   ]
  },
  {
   "cell_type": "code",
   "execution_count": 24,
   "id": "94916c42",
   "metadata": {},
   "outputs": [
    {
     "data": {
      "text/html": [
       "<div>\n",
       "<style scoped>\n",
       "    .dataframe tbody tr th:only-of-type {\n",
       "        vertical-align: middle;\n",
       "    }\n",
       "\n",
       "    .dataframe tbody tr th {\n",
       "        vertical-align: top;\n",
       "    }\n",
       "\n",
       "    .dataframe thead th {\n",
       "        text-align: right;\n",
       "    }\n",
       "</style>\n",
       "<table border=\"1\" class=\"dataframe\">\n",
       "  <thead>\n",
       "    <tr style=\"text-align: right;\">\n",
       "      <th></th>\n",
       "      <th>country</th>\n",
       "      <th>description</th>\n",
       "      <th>points</th>\n",
       "      <th>price</th>\n",
       "      <th>province</th>\n",
       "      <th>region_1</th>\n",
       "      <th>title</th>\n",
       "      <th>variety</th>\n",
       "      <th>winery</th>\n",
       "      <th>year</th>\n",
       "    </tr>\n",
       "  </thead>\n",
       "  <tbody>\n",
       "    <tr>\n",
       "      <th>1</th>\n",
       "      <td>Portugal</td>\n",
       "      <td>This is ripe and fruity, a wine that is smooth...</td>\n",
       "      <td>87</td>\n",
       "      <td>15.0</td>\n",
       "      <td>Douro</td>\n",
       "      <td>NaN</td>\n",
       "      <td>Quinta dos Avidagos 2011 Avidagos Red (Douro)</td>\n",
       "      <td>Portuguese Red</td>\n",
       "      <td>Quinta dos Avidagos</td>\n",
       "      <td>2011</td>\n",
       "    </tr>\n",
       "    <tr>\n",
       "      <th>2</th>\n",
       "      <td>US</td>\n",
       "      <td>Tart and snappy, the flavors of lime flesh and...</td>\n",
       "      <td>87</td>\n",
       "      <td>14.0</td>\n",
       "      <td>Oregon</td>\n",
       "      <td>Willamette Valley</td>\n",
       "      <td>Rainstorm 2013 Pinot Gris (Willamette Valley)</td>\n",
       "      <td>Pinot Gris</td>\n",
       "      <td>Rainstorm</td>\n",
       "      <td>2013</td>\n",
       "    </tr>\n",
       "    <tr>\n",
       "      <th>3</th>\n",
       "      <td>US</td>\n",
       "      <td>Pineapple rind, lemon pith and orange blossom ...</td>\n",
       "      <td>87</td>\n",
       "      <td>13.0</td>\n",
       "      <td>Michigan</td>\n",
       "      <td>Lake Michigan Shore</td>\n",
       "      <td>St. Julian 2013 Reserve Late Harvest Riesling ...</td>\n",
       "      <td>Riesling</td>\n",
       "      <td>St. Julian</td>\n",
       "      <td>2013</td>\n",
       "    </tr>\n",
       "    <tr>\n",
       "      <th>4</th>\n",
       "      <td>US</td>\n",
       "      <td>Much like the regular bottling from 2012, this...</td>\n",
       "      <td>87</td>\n",
       "      <td>65.0</td>\n",
       "      <td>Oregon</td>\n",
       "      <td>Willamette Valley</td>\n",
       "      <td>Sweet Cheeks 2012 Vintner's Reserve Wild Child...</td>\n",
       "      <td>Pinot Noir</td>\n",
       "      <td>Sweet Cheeks</td>\n",
       "      <td>2012</td>\n",
       "    </tr>\n",
       "    <tr>\n",
       "      <th>5</th>\n",
       "      <td>Spain</td>\n",
       "      <td>Blackberry and raspberry aromas show a typical...</td>\n",
       "      <td>87</td>\n",
       "      <td>15.0</td>\n",
       "      <td>Northern Spain</td>\n",
       "      <td>Navarra</td>\n",
       "      <td>Tandem 2011 Ars In Vitro Tempranillo-Merlot (N...</td>\n",
       "      <td>Tempranillo-Merlot</td>\n",
       "      <td>Tandem</td>\n",
       "      <td>2011</td>\n",
       "    </tr>\n",
       "  </tbody>\n",
       "</table>\n",
       "</div>"
      ],
      "text/plain": [
       "    country                                        description  points  price  \\\n",
       "1  Portugal  This is ripe and fruity, a wine that is smooth...      87   15.0   \n",
       "2        US  Tart and snappy, the flavors of lime flesh and...      87   14.0   \n",
       "3        US  Pineapple rind, lemon pith and orange blossom ...      87   13.0   \n",
       "4        US  Much like the regular bottling from 2012, this...      87   65.0   \n",
       "5     Spain  Blackberry and raspberry aromas show a typical...      87   15.0   \n",
       "\n",
       "         province             region_1  \\\n",
       "1           Douro                  NaN   \n",
       "2          Oregon    Willamette Valley   \n",
       "3        Michigan  Lake Michigan Shore   \n",
       "4          Oregon    Willamette Valley   \n",
       "5  Northern Spain              Navarra   \n",
       "\n",
       "                                               title             variety  \\\n",
       "1      Quinta dos Avidagos 2011 Avidagos Red (Douro)      Portuguese Red   \n",
       "2      Rainstorm 2013 Pinot Gris (Willamette Valley)          Pinot Gris   \n",
       "3  St. Julian 2013 Reserve Late Harvest Riesling ...            Riesling   \n",
       "4  Sweet Cheeks 2012 Vintner's Reserve Wild Child...          Pinot Noir   \n",
       "5  Tandem 2011 Ars In Vitro Tempranillo-Merlot (N...  Tempranillo-Merlot   \n",
       "\n",
       "                winery  year  \n",
       "1  Quinta dos Avidagos  2011  \n",
       "2            Rainstorm  2013  \n",
       "3           St. Julian  2013  \n",
       "4         Sweet Cheeks  2012  \n",
       "5               Tandem  2011  "
      ]
     },
     "execution_count": 24,
     "metadata": {},
     "output_type": "execute_result"
    }
   ],
   "source": [
    "# Testing a glimps of the dataframe \n",
    "df1.head()"
   ]
  },
  {
   "cell_type": "code",
   "execution_count": 25,
   "id": "757b2574",
   "metadata": {},
   "outputs": [
    {
     "data": {
      "text/plain": [
       "(120915, 10)"
      ]
     },
     "execution_count": 25,
     "metadata": {},
     "output_type": "execute_result"
    }
   ],
   "source": [
    "# Datafram of the new columns and rows\n",
    "df1.shape"
   ]
  },
  {
   "cell_type": "markdown",
   "id": "229d2924",
   "metadata": {},
   "source": [
    "### Exploratory Data Analysis: Data Analysis and Visualisation"
   ]
  },
  {
   "cell_type": "markdown",
   "id": "13d1da7c",
   "metadata": {},
   "source": [
    "#### 1. Where the best wines originate?"
   ]
  },
  {
   "cell_type": "markdown",
   "id": "9fbfb0aa",
   "metadata": {},
   "source": [
    "To answer this question it is a good idea to plot the distributions of the points."
   ]
  },
  {
   "cell_type": "code",
   "execution_count": 26,
   "id": "ec9be374",
   "metadata": {},
   "outputs": [
    {
     "data": {
      "image/png": "[encoded data removed]",
      "text/plain": [
       "<Figure size 720x360 with 1 Axes>"
      ]
     },
     "metadata": {
      "needs_background": "light"
     },
     "output_type": "display_data"
    }
   ],
   "source": [
    "# Plotting the distribution of points\n",
    "plt.figure(figsize=(10,5))\n",
    "bin_edges = np.arange (80, df1['points'].max()+1, 1)\n",
    "plt.hist(data = df1, x = 'points', bins = bin_edges, color = 'maroon')\n",
    "plt.xlim(80,100)\n",
    "plt.xlabel('Points')\n",
    "plt.ylabel('Frequency');\n",
    "plt.title('Points Distribution Range 80-100', fontsize = 15);"
   ]
  },
  {
   "cell_type": "markdown",
   "id": "516cfd79",
   "metadata": {},
   "source": [
    "The plot shows a rough normal distribution between the rage 80-100."
   ]
  },
  {
   "cell_type": "code",
   "execution_count": 27,
   "id": "706d2770",
   "metadata": {},
   "outputs": [
    {
     "data": {
      "text/plain": [
       "US          54265\n",
       "France      17776\n",
       "Italy       16914\n",
       "Spain        6573\n",
       "Portugal     4875\n",
       "Name: country, dtype: int64"
      ]
     },
     "execution_count": 27,
     "metadata": {},
     "output_type": "execute_result"
    }
   ],
   "source": [
    "# Extracting highest 5 wine producing countries\n",
    "country_top = df1.country.value_counts()[:5]\n",
    "country_top"
   ]
  },
  {
   "cell_type": "code",
   "execution_count": 28,
   "id": "57443875",
   "metadata": {},
   "outputs": [
    {
     "data": {
      "image/png": "[encoded data removed]",
      "text/plain": [
       "<Figure size 720x360 with 1 Axes>"
      ]
     },
     "metadata": {
      "needs_background": "light"
     },
     "output_type": "display_data"
    }
   ],
   "source": [
    "# Top 5 wine producing countries \n",
    "plt.figure(figsize=(10,5))\n",
    "country_top.plot(kind='bar', color = 'navy')\n",
    "plt.title('Number of Wine Ratings by Country', fontsize = 15)\n",
    "plt.xlabel('Country')\n",
    "plt.ylabel('Number of Ratings');"
   ]
  },
  {
   "cell_type": "markdown",
   "id": "ac1a4d0e",
   "metadata": {},
   "source": [
    "It is apparent that the top 5 wine producing countries are: **USA**, **France**, **Italy**, **Spain**, **Portugal**"
   ]
  },
  {
   "cell_type": "code",
   "execution_count": 29,
   "id": "a0967d13",
   "metadata": {},
   "outputs": [],
   "source": [
    "# Grouping countries by their average points\n",
    "df_group = df1.groupby('country').agg('mean')"
   ]
  },
  {
   "cell_type": "code",
   "execution_count": 30,
   "id": "dc6de285",
   "metadata": {},
   "outputs": [
    {
     "data": {
      "text/html": [
       "<div>\n",
       "<style scoped>\n",
       "    .dataframe tbody tr th:only-of-type {\n",
       "        vertical-align: middle;\n",
       "    }\n",
       "\n",
       "    .dataframe tbody tr th {\n",
       "        vertical-align: top;\n",
       "    }\n",
       "\n",
       "    .dataframe thead th {\n",
       "        text-align: right;\n",
       "    }\n",
       "</style>\n",
       "<table border=\"1\" class=\"dataframe\">\n",
       "  <thead>\n",
       "    <tr style=\"text-align: right;\">\n",
       "      <th></th>\n",
       "      <th>points</th>\n",
       "      <th>price</th>\n",
       "    </tr>\n",
       "    <tr>\n",
       "      <th>country</th>\n",
       "      <th></th>\n",
       "      <th></th>\n",
       "    </tr>\n",
       "  </thead>\n",
       "  <tbody>\n",
       "    <tr>\n",
       "      <th>England</th>\n",
       "      <td>91.550725</td>\n",
       "      <td>51.681159</td>\n",
       "    </tr>\n",
       "    <tr>\n",
       "      <th>India</th>\n",
       "      <td>90.222222</td>\n",
       "      <td>13.333333</td>\n",
       "    </tr>\n",
       "    <tr>\n",
       "      <th>Austria</th>\n",
       "      <td>90.190782</td>\n",
       "      <td>30.762772</td>\n",
       "    </tr>\n",
       "    <tr>\n",
       "      <th>Germany</th>\n",
       "      <td>89.836321</td>\n",
       "      <td>42.257547</td>\n",
       "    </tr>\n",
       "    <tr>\n",
       "      <th>Canada</th>\n",
       "      <td>89.377953</td>\n",
       "      <td>35.712598</td>\n",
       "    </tr>\n",
       "  </tbody>\n",
       "</table>\n",
       "</div>"
      ],
      "text/plain": [
       "            points      price\n",
       "country                      \n",
       "England  91.550725  51.681159\n",
       "India    90.222222  13.333333\n",
       "Austria  90.190782  30.762772\n",
       "Germany  89.836321  42.257547\n",
       "Canada   89.377953  35.712598"
      ]
     },
     "execution_count": 30,
     "metadata": {},
     "output_type": "execute_result"
    }
   ],
   "source": [
    "# A dataframe of countries with the 5 most points \n",
    "df_top_points = df_group.sort_values(by='points', ascending=False)[:5]\n",
    "df_top_points"
   ]
  },
  {
   "cell_type": "code",
   "execution_count": 31,
   "id": "f826ddb9",
   "metadata": {
    "scrolled": true
   },
   "outputs": [
    {
     "data": {
      "image/png": "[encoded data removed]",
      "text/plain": [
       "<Figure size 576x360 with 1 Axes>"
      ]
     },
     "metadata": {
      "needs_background": "light"
     },
     "output_type": "display_data"
    }
   ],
   "source": [
    "# Plotting the Top 5 wine producing countries\n",
    "plt.figure(figsize=(8,5))\n",
    "plt.ylim(84, 92)\n",
    "sns.barplot(x=df_top_points.index, y=df_top_points['points'], palette='Purples_r')\n",
    "plt.title('Top 5 Countries Average Points', fontsize = 15)\n",
    "plt.xlabel('Average Points')\n",
    "plt.ylabel('Country');"
   ]
  },
  {
   "cell_type": "markdown",
   "id": "15b7b8b7",
   "metadata": {},
   "source": [
    "This analysis indicates that **England** owns the higest average points among all wine producers. However, the validity of this deduction should be assessed based on the number of datasets. Lower datasets with high rating could lead to this assumption. "
   ]
  },
  {
   "cell_type": "code",
   "execution_count": 32,
   "id": "e174e3ca",
   "metadata": {},
   "outputs": [
    {
     "data": {
      "image/png": "[encoded data removed]",
      "text/plain": [
       "<Figure size 720x360 with 2 Axes>"
      ]
     },
     "metadata": {
      "needs_background": "light"
     },
     "output_type": "display_data"
    }
   ],
   "source": [
    "# Plotting te comparison between Points and Prices on the Top Countries\n",
    "data=[df_top_points['points'], df_top_points['price']]\n",
    "headers = [\"points\", \"price\"]\n",
    "df_data=pd.concat(data, axis=1, keys=headers)\n",
    "\n",
    "fig, ax1 = plt.subplots(figsize = (10,5))\n",
    " \n",
    "sns.barplot(x=df_data['points'],y=df_data.index, color='purple')\n",
    "ax1.tick_params(axis='y', labelcolor='purple', labelsize = 12)\n",
    "\n",
    "# Setting unit for rating\n",
    "ax1.set_ylabel('Average country rating (in points)', color='purple', fontsize=12) \n",
    "\n",
    "ax2 = ax1.twinx()\n",
    "plt.xlim(12, 92)\n",
    "\n",
    "sns.barplot(x=df_data['price'], y=df_data.index, color='red')\n",
    "ax2.tick_params(axis='y', labelcolor='red', labelsize = 12) \n",
    "\n",
    "# Relabeling right axis with price values\n",
    "ax2.set_yticklabels(df_top_points['price'].round()) \n",
    "\n",
    "# Removing x-label because this axis applies to both categories\n",
    "ax1.set_xlabel(\"\") \n",
    "\n",
    "# Setting unit for price\n",
    "ax2.set_ylabel('Price (in $)', color='red', fontsize=12)\n",
    "ax2.set_title(\"Price versus Points Comparison\", fontsize=14)\n",
    "plt.show()"
   ]
  },
  {
   "cell_type": "markdown",
   "id": "d85677a6",
   "metadata": {},
   "source": [
    "It can be seen that **India** has one of the highest average point with the lowst price. In comparison **England** has the highest average point with almost triple times more in price as the most expensive wine among all. **Astria** on the other hand is double as costy as **India**, yet almost similar in average points. We need to further investigae to underatnd if **India** gains that much attention purely as the result of its price or quality. **England** in terms of Price aversus Points is in a reasonable position, as it holds the highest rating and highest price."
   ]
  },
  {
   "cell_type": "code",
   "execution_count": 33,
   "id": "a3265100",
   "metadata": {},
   "outputs": [
    {
     "data": {
      "text/plain": [
       "count    120915.000000\n",
       "mean         88.421726\n",
       "std           3.044954\n",
       "min          80.000000\n",
       "25%          86.000000\n",
       "50%          88.000000\n",
       "75%          91.000000\n",
       "max         100.000000\n",
       "Name: points, dtype: float64"
      ]
     },
     "execution_count": 33,
     "metadata": {},
     "output_type": "execute_result"
    }
   ],
   "source": [
    "# Descriptive info of the Dataframe\n",
    "df1.points.describe()"
   ]
  },
  {
   "cell_type": "code",
   "execution_count": 34,
   "id": "19f7a54d",
   "metadata": {
    "scrolled": true
   },
   "outputs": [
    {
     "data": {
      "text/html": [
       "<div>\n",
       "<style scoped>\n",
       "    .dataframe tbody tr th:only-of-type {\n",
       "        vertical-align: middle;\n",
       "    }\n",
       "\n",
       "    .dataframe tbody tr th {\n",
       "        vertical-align: top;\n",
       "    }\n",
       "\n",
       "    .dataframe thead th {\n",
       "        text-align: right;\n",
       "    }\n",
       "</style>\n",
       "<table border=\"1\" class=\"dataframe\">\n",
       "  <thead>\n",
       "    <tr style=\"text-align: right;\">\n",
       "      <th></th>\n",
       "      <th>country</th>\n",
       "      <th>description</th>\n",
       "      <th>points</th>\n",
       "      <th>price</th>\n",
       "      <th>province</th>\n",
       "      <th>region_1</th>\n",
       "      <th>title</th>\n",
       "      <th>variety</th>\n",
       "      <th>winery</th>\n",
       "      <th>year</th>\n",
       "    </tr>\n",
       "  </thead>\n",
       "  <tbody>\n",
       "    <tr>\n",
       "      <th>345</th>\n",
       "      <td>Australia</td>\n",
       "      <td>This wine contains some material over 100 year...</td>\n",
       "      <td>100</td>\n",
       "      <td>350.0</td>\n",
       "      <td>Victoria</td>\n",
       "      <td>Rutherglen</td>\n",
       "      <td>Chambers Rosewood Vineyards NV Rare Muscat (Ru...</td>\n",
       "      <td>Muscat</td>\n",
       "      <td>Chambers Rosewood Vineyards</td>\n",
       "      <td>NaN</td>\n",
       "    </tr>\n",
       "    <tr>\n",
       "      <th>346</th>\n",
       "      <td>Australia</td>\n",
       "      <td>This deep brown wine smells like a damp, mossy...</td>\n",
       "      <td>98</td>\n",
       "      <td>350.0</td>\n",
       "      <td>Victoria</td>\n",
       "      <td>Rutherglen</td>\n",
       "      <td>Chambers Rosewood Vineyards NV Rare Muscadelle...</td>\n",
       "      <td>Muscadelle</td>\n",
       "      <td>Chambers Rosewood Vineyards</td>\n",
       "      <td>NaN</td>\n",
       "    </tr>\n",
       "    <tr>\n",
       "      <th>347</th>\n",
       "      <td>Germany</td>\n",
       "      <td>Dusty, saffron-spiced earthiness is juxtaposed...</td>\n",
       "      <td>97</td>\n",
       "      <td>775.0</td>\n",
       "      <td>Rheingau</td>\n",
       "      <td>NaN</td>\n",
       "      <td>Robert Weil 2014 Kiedrich Gräfenberg Trockenbe...</td>\n",
       "      <td>Riesling</td>\n",
       "      <td>Robert Weil</td>\n",
       "      <td>2014</td>\n",
       "    </tr>\n",
       "    <tr>\n",
       "      <th>348</th>\n",
       "      <td>Australia</td>\n",
       "      <td>Deep mahogany. Dried fig and black tea on the ...</td>\n",
       "      <td>97</td>\n",
       "      <td>100.0</td>\n",
       "      <td>Victoria</td>\n",
       "      <td>Rutherglen</td>\n",
       "      <td>Chambers Rosewood Vineyards NV Grand Muscat (R...</td>\n",
       "      <td>Muscat</td>\n",
       "      <td>Chambers Rosewood Vineyards</td>\n",
       "      <td>NaN</td>\n",
       "    </tr>\n",
       "    <tr>\n",
       "      <th>349</th>\n",
       "      <td>Australia</td>\n",
       "      <td>RunRig is always complex, and the 2012 doesn't...</td>\n",
       "      <td>97</td>\n",
       "      <td>225.0</td>\n",
       "      <td>South Australia</td>\n",
       "      <td>Barossa</td>\n",
       "      <td>Torbreck 2012 RunRig Shiraz-Viognier (Barossa)</td>\n",
       "      <td>Shiraz-Viognier</td>\n",
       "      <td>Torbreck</td>\n",
       "      <td>2012</td>\n",
       "    </tr>\n",
       "    <tr>\n",
       "      <th>...</th>\n",
       "      <td>...</td>\n",
       "      <td>...</td>\n",
       "      <td>...</td>\n",
       "      <td>...</td>\n",
       "      <td>...</td>\n",
       "      <td>...</td>\n",
       "      <td>...</td>\n",
       "      <td>...</td>\n",
       "      <td>...</td>\n",
       "      <td>...</td>\n",
       "    </tr>\n",
       "    <tr>\n",
       "      <th>128267</th>\n",
       "      <td>US</td>\n",
       "      <td>An extraordinary wine. It's the essence of Rus...</td>\n",
       "      <td>97</td>\n",
       "      <td>85.0</td>\n",
       "      <td>California</td>\n",
       "      <td>Russian River Valley</td>\n",
       "      <td>Semper 2007 Gold Ridge Pinot Noir (Russian Riv...</td>\n",
       "      <td>Pinot Noir</td>\n",
       "      <td>Semper</td>\n",
       "      <td>2007</td>\n",
       "    </tr>\n",
       "    <tr>\n",
       "      <th>128268</th>\n",
       "      <td>US</td>\n",
       "      <td>A monumental Cabernet that succeeds on every l...</td>\n",
       "      <td>97</td>\n",
       "      <td>50.0</td>\n",
       "      <td>California</td>\n",
       "      <td>Oak Knoll District</td>\n",
       "      <td>Trefethen 2005 Estate Cabernet Sauvignon (Oak ...</td>\n",
       "      <td>Cabernet Sauvignon</td>\n",
       "      <td>Trefethen</td>\n",
       "      <td>2005</td>\n",
       "    </tr>\n",
       "    <tr>\n",
       "      <th>128269</th>\n",
       "      <td>US</td>\n",
       "      <td>Massive, dramatic, beautiful, intense, but you...</td>\n",
       "      <td>97</td>\n",
       "      <td>100.0</td>\n",
       "      <td>California</td>\n",
       "      <td>Napa Valley</td>\n",
       "      <td>Hestan 2006 Cabernet Sauvignon (Napa Valley)</td>\n",
       "      <td>Cabernet Sauvignon</td>\n",
       "      <td>Hestan</td>\n",
       "      <td>2006</td>\n",
       "    </tr>\n",
       "    <tr>\n",
       "      <th>128270</th>\n",
       "      <td>US</td>\n",
       "      <td>Monumentally detailed, this 100% Cabernet Sauv...</td>\n",
       "      <td>97</td>\n",
       "      <td>65.0</td>\n",
       "      <td>California</td>\n",
       "      <td>St. Helena</td>\n",
       "      <td>Redmon 2006 Cabernet Sauvignon (St. Helena)</td>\n",
       "      <td>Cabernet Sauvignon</td>\n",
       "      <td>Redmon</td>\n",
       "      <td>2006</td>\n",
       "    </tr>\n",
       "    <tr>\n",
       "      <th>128271</th>\n",
       "      <td>Spain</td>\n",
       "      <td>Concentrated to the hilt, with molten black fr...</td>\n",
       "      <td>96</td>\n",
       "      <td>82.0</td>\n",
       "      <td>Northern Spain</td>\n",
       "      <td>Rioja</td>\n",
       "      <td>Remírez de Ganuza 2005 Old Vines Unfiltered  (...</td>\n",
       "      <td>Tempranillo Blend</td>\n",
       "      <td>Remírez de Ganuza</td>\n",
       "      <td>2005</td>\n",
       "    </tr>\n",
       "  </tbody>\n",
       "</table>\n",
       "<p>805 rows × 10 columns</p>\n",
       "</div>"
      ],
      "text/plain": [
       "          country                                        description  points  \\\n",
       "345     Australia  This wine contains some material over 100 year...     100   \n",
       "346     Australia  This deep brown wine smells like a damp, mossy...      98   \n",
       "347       Germany  Dusty, saffron-spiced earthiness is juxtaposed...      97   \n",
       "348     Australia  Deep mahogany. Dried fig and black tea on the ...      97   \n",
       "349     Australia  RunRig is always complex, and the 2012 doesn't...      97   \n",
       "...           ...                                                ...     ...   \n",
       "128267         US  An extraordinary wine. It's the essence of Rus...      97   \n",
       "128268         US  A monumental Cabernet that succeeds on every l...      97   \n",
       "128269         US  Massive, dramatic, beautiful, intense, but you...      97   \n",
       "128270         US  Monumentally detailed, this 100% Cabernet Sauv...      97   \n",
       "128271      Spain  Concentrated to the hilt, with molten black fr...      96   \n",
       "\n",
       "        price         province              region_1  \\\n",
       "345     350.0         Victoria            Rutherglen   \n",
       "346     350.0         Victoria            Rutherglen   \n",
       "347     775.0         Rheingau                   NaN   \n",
       "348     100.0         Victoria            Rutherglen   \n",
       "349     225.0  South Australia               Barossa   \n",
       "...       ...              ...                   ...   \n",
       "128267   85.0       California  Russian River Valley   \n",
       "128268   50.0       California    Oak Knoll District   \n",
       "128269  100.0       California           Napa Valley   \n",
       "128270   65.0       California            St. Helena   \n",
       "128271   82.0   Northern Spain                 Rioja   \n",
       "\n",
       "                                                    title             variety  \\\n",
       "345     Chambers Rosewood Vineyards NV Rare Muscat (Ru...              Muscat   \n",
       "346     Chambers Rosewood Vineyards NV Rare Muscadelle...          Muscadelle   \n",
       "347     Robert Weil 2014 Kiedrich Gräfenberg Trockenbe...            Riesling   \n",
       "348     Chambers Rosewood Vineyards NV Grand Muscat (R...              Muscat   \n",
       "349        Torbreck 2012 RunRig Shiraz-Viognier (Barossa)     Shiraz-Viognier   \n",
       "...                                                   ...                 ...   \n",
       "128267  Semper 2007 Gold Ridge Pinot Noir (Russian Riv...          Pinot Noir   \n",
       "128268  Trefethen 2005 Estate Cabernet Sauvignon (Oak ...  Cabernet Sauvignon   \n",
       "128269       Hestan 2006 Cabernet Sauvignon (Napa Valley)  Cabernet Sauvignon   \n",
       "128270        Redmon 2006 Cabernet Sauvignon (St. Helena)  Cabernet Sauvignon   \n",
       "128271  Remírez de Ganuza 2005 Old Vines Unfiltered  (...   Tempranillo Blend   \n",
       "\n",
       "                             winery  year  \n",
       "345     Chambers Rosewood Vineyards   NaN  \n",
       "346     Chambers Rosewood Vineyards   NaN  \n",
       "347                     Robert Weil  2014  \n",
       "348     Chambers Rosewood Vineyards   NaN  \n",
       "349                        Torbreck  2012  \n",
       "...                             ...   ...  \n",
       "128267                       Semper  2007  \n",
       "128268                    Trefethen  2005  \n",
       "128269                       Hestan  2006  \n",
       "128270                       Redmon  2006  \n",
       "128271            Remírez de Ganuza  2005  \n",
       "\n",
       "[805 rows x 10 columns]"
      ]
     },
     "execution_count": 34,
     "metadata": {},
     "output_type": "execute_result"
    }
   ],
   "source": [
    "# Countries which scored above 96 points\n",
    "high_scorers = df1[df1['points']>=96]\n",
    "high_scorers"
   ]
  },
  {
   "cell_type": "code",
   "execution_count": 35,
   "id": "af336e5a",
   "metadata": {},
   "outputs": [
    {
     "data": {
      "text/plain": [
       "US           351\n",
       "France       185\n",
       "Italy        129\n",
       "Portugal      35\n",
       "Austria       29\n",
       "Germany       25\n",
       "Spain         22\n",
       "Australia     22\n",
       "Hungary        4\n",
       "Argentina      3\n",
       "Name: country, dtype: int64"
      ]
     },
     "execution_count": 35,
     "metadata": {},
     "output_type": "execute_result"
    }
   ],
   "source": [
    "# Unique counts of countries scored above 96 points\n",
    "high_scorers.country.value_counts()"
   ]
  },
  {
   "cell_type": "code",
   "execution_count": 36,
   "id": "92e7807b",
   "metadata": {},
   "outputs": [
    {
     "data": {
      "text/plain": [
       "US                        54265\n",
       "France                    17776\n",
       "Italy                     16914\n",
       "Spain                      6573\n",
       "Portugal                   4875\n",
       "Chile                      4415\n",
       "Argentina                  3756\n",
       "Austria                    2799\n",
       "Australia                  2294\n",
       "Germany                    2120\n",
       "New Zealand                1378\n",
       "South Africa               1293\n",
       "Israel                      489\n",
       "Greece                      461\n",
       "Canada                      254\n",
       "Hungary                     145\n",
       "Bulgaria                    141\n",
       "Romania                     120\n",
       "Uruguay                     109\n",
       "Turkey                       90\n",
       "Georgia                      84\n",
       "Slovenia                     80\n",
       "Croatia                      71\n",
       "Mexico                       70\n",
       "England                      69\n",
       "Moldova                      59\n",
       "Brazil                       47\n",
       "Lebanon                      35\n",
       "Morocco                      28\n",
       "Peru                         16\n",
       "Ukraine                      14\n",
       "Serbia                       12\n",
       "Czech Republic               12\n",
       "Macedonia                    12\n",
       "Cyprus                       11\n",
       "India                         9\n",
       "Switzerland                   7\n",
       "Luxembourg                    6\n",
       "Bosnia and Herzegovina        2\n",
       "Armenia                       2\n",
       "China                         1\n",
       "Slovakia                      1\n",
       "Name: country, dtype: int64"
      ]
     },
     "execution_count": 36,
     "metadata": {},
     "output_type": "execute_result"
    }
   ],
   "source": [
    "# Unique counts of number of wines for each country\n",
    "df1.country.value_counts()"
   ]
  },
  {
   "cell_type": "markdown",
   "id": "6ed1a85d",
   "metadata": {},
   "source": [
    "The above analysis can demonstrate that, even though **England** has the highest mean score but countries such as **USA**, **France** and **Italy** have the highest number of reviews in comparison. This inerefnce could be as the result of more variaty of wines with the latter counries. Therefore, it may not be the best comparison for a fair analysis. "
   ]
  },
  {
   "cell_type": "code",
   "execution_count": 57,
   "id": "0d4d03b6",
   "metadata": {},
   "outputs": [
    {
     "data": {
      "image/png": "[encoded data removed]",
      "text/plain": [
       "<Figure size 1440x1296 with 1 Axes>"
      ]
     },
     "metadata": {
      "needs_background": "light"
     },
     "output_type": "display_data"
    }
   ],
   "source": [
    "# Plotting a Boxplot of the Dataframe\n",
    "plt.figure(figsize=(20,18))\n",
    "base_color = sns.color_palette()[3]\n",
    "sns.boxplot(data = df1, x = 'points', y = 'country', color = base_color)\n",
    "plt.title('Points by Country', fontsize = 14)\n",
    "plt.xlabel('Points')\n",
    "plt.ylabel('Country');"
   ]
  },
  {
   "cell_type": "markdown",
   "id": "a9a2f0b9",
   "metadata": {},
   "source": [
    "As shown in the above Boxplot, despite **England** having the highest points on average, wines from **Portugal**, the **USA**, **Italy**, **France**, and **Australia** received a total **100** score. This could be because these countries have much wider range of wines. "
   ]
  },
  {
   "cell_type": "code",
   "execution_count": 58,
   "id": "c9bd6435",
   "metadata": {},
   "outputs": [],
   "source": [
    "# Unique count of provinces\n",
    "wine_prov = df1.province.value_counts()[:10]"
   ]
  },
  {
   "cell_type": "code",
   "execution_count": 59,
   "id": "9d21a744",
   "metadata": {},
   "outputs": [
    {
     "data": {
      "image/png": "[encoded data removed]",
      "text/plain": [
       "<Figure size 720x432 with 1 Axes>"
      ]
     },
     "metadata": {
      "needs_background": "light"
     },
     "output_type": "display_data"
    }
   ],
   "source": [
    "# Plotting the ratings by province\n",
    "plt.figure(figsize=(10,6))\n",
    "wine_prov.plot(kind='bar', color = 'gray')\n",
    "plt.title('Number of Wine Ratings by Province', fontsize = 14)\n",
    "plt.xlabel('Province')\n",
    "plt.ylabel('Number of Ratings');"
   ]
  },
  {
   "cell_type": "markdown",
   "id": "5bbe2471",
   "metadata": {},
   "source": [
    "As the most number of reviews are from **USA**, it is expected that **california** stands for the most number of ratings. "
   ]
  },
  {
   "cell_type": "code",
   "execution_count": 62,
   "id": "d62c6e1b",
   "metadata": {},
   "outputs": [
    {
     "data": {
      "image/png": "[encoded data removed]",
      "text/plain": [
       "<Figure size 720x576 with 1 Axes>"
      ]
     },
     "metadata": {
      "needs_background": "light"
     },
     "output_type": "display_data"
    }
   ],
   "source": [
    "# Plotting the mean price of wine per country\n",
    "df4 = df1.groupby('country').agg('mean')\n",
    "df5 = df4.sort_values(by='price', ascending=False)\n",
    "y_val = df5.index.to_series()\n",
    "x_val = df5['price']\n",
    "\n",
    "plt.figure(figsize=(10,8))\n",
    "sns.barplot(x=x_val, y=y_val, palette= 'Reds_r')\n",
    "plt.title('Average Price of Wine by Country', fontsize = 14)\n",
    "plt.xlabel('Average Price ($)')\n",
    "plt.ylabel('Country');"
   ]
  },
  {
   "cell_type": "markdown",
   "id": "21f9380a",
   "metadata": {},
   "source": [
    "The clear indications are that **Switzerland** has the highest average price of above **85\\$** and that is just under **10\\$** for **Ukraine** as the lowest among all."
   ]
  },
  {
   "cell_type": "markdown",
   "id": "37ede983",
   "metadata": {},
   "source": [
    "### 2. Is Price Related to Quality of Wine?"
   ]
  },
  {
   "cell_type": "code",
   "execution_count": 73,
   "id": "5099174d",
   "metadata": {},
   "outputs": [
    {
     "data": {
      "text/plain": [
       "count    120915.000000\n",
       "mean         35.368796\n",
       "std          41.031188\n",
       "min           4.000000\n",
       "25%          17.000000\n",
       "50%          25.000000\n",
       "75%          42.000000\n",
       "max        3300.000000\n",
       "Name: price, dtype: float64"
      ]
     },
     "execution_count": 73,
     "metadata": {},
     "output_type": "execute_result"
    }
   ],
   "source": [
    "# Exploring descriptive statistics\n",
    "df1['price'].describe()"
   ]
  },
  {
   "cell_type": "code",
   "execution_count": 64,
   "id": "ffd91f1a",
   "metadata": {},
   "outputs": [
    {
     "data": {
      "image/png": "[encoded data removed]",
      "text/plain": [
       "<Figure size 720x432 with 1 Axes>"
      ]
     },
     "metadata": {
      "needs_background": "light"
     },
     "output_type": "display_data"
    }
   ],
   "source": [
    "# Plotting the price distribution\n",
    "plt.figure(figsize=(10,6))\n",
    "bin_edges = np.arange (0, df1['price'].max()+5, 5)\n",
    "plt.hist(data = df1, x = 'price', bins = bin_edges, color = 'black')\n",
    "\n",
    "# Cutting the x-axis at 200\n",
    "plt.xlim(0,200) \n",
    "plt.xlabel('Price($)')\n",
    "plt.ylabel('Frequency');"
   ]
  },
  {
   "cell_type": "markdown",
   "id": "dc3ee94e",
   "metadata": {},
   "source": [
    "The plot shows a positive skew distribution to the right. Using logarithmic transformation may help a better distribution. "
   ]
  },
  {
   "cell_type": "code",
   "execution_count": 74,
   "id": "71ea5f1a",
   "metadata": {},
   "outputs": [
    {
     "data": {
      "text/plain": [
       "count    5.082480\n",
       "mean     1.548620\n",
       "std      1.613114\n",
       "min      0.602060\n",
       "25%      1.230449\n",
       "50%      1.397940\n",
       "75%      1.623249\n",
       "max      3.518514\n",
       "Name: price, dtype: float64"
      ]
     },
     "execution_count": 74,
     "metadata": {},
     "output_type": "execute_result"
    }
   ],
   "source": [
    "# A base-10 logarithmic trasformtion of data\n",
    "np.log10(df1['price'].describe())"
   ]
  },
  {
   "cell_type": "code",
   "execution_count": 95,
   "id": "b3aad880",
   "metadata": {},
   "outputs": [
    {
     "data": {
      "image/png": "[encoded data removed]",
      "text/plain": [
       "<Figure size 720x432 with 1 Axes>"
      ]
     },
     "metadata": {
      "needs_background": "light"
     },
     "output_type": "display_data"
    }
   ],
   "source": [
    "# Plotting price distribution on a log scale\n",
    "plt.figure(figsize=(10,6))\n",
    "bin_edges = 10 ** np.arange(0.5, 3.5 + 0.07, 0.07)\n",
    "ticks = [1, 3, 10, 30, 100, 300, 1000, 3000, 10000]\n",
    "plt.hist(data = df1, x = 'price', bins=bin_edges, color = 'brown')\n",
    "plt.xscale('log')\n",
    "plt.xticks(ticks, ticks)\n",
    "plt.xlabel('Price ($)')\n",
    "plt.ylabel('Frequency');"
   ]
  },
  {
   "cell_type": "markdown",
   "id": "294d1d29",
   "metadata": {},
   "source": [
    "The above graph illustrates an approximatly long-normal distribution. There is a considrable peak around **10\\$** and two peaks around **20\\$** and **50\\$**."
   ]
  },
  {
   "cell_type": "code",
   "execution_count": 102,
   "id": "f3256e8e",
   "metadata": {},
   "outputs": [
    {
     "data": {
      "image/png": "[encoded data removed]",
      "text/plain": [
       "<Figure size 720x432 with 1 Axes>"
      ]
     },
     "metadata": {
      "needs_background": "light"
     },
     "output_type": "display_data"
    }
   ],
   "source": [
    "# Scatter plotting of the relationship between points vs price with a log transformation (price axis)\n",
    "plt.figure(figsize=(10,6))\n",
    "sns.regplot(x='price', y='points', data=df1, color = 'purple', logx = True, scatter_kws={'alpha':0.1})\n",
    "plt.title(\"Points vs. Log of Price\", fontsize=14)\n",
    "plt.xscale('log')\n",
    "plt.xticks([1, 3, 10, 30, 100, 300, 1000, 3000, 10000], [1, 3, 10, 30, 100, 300, 1000, 3000, 10000])\n",
    "plt.xlabel(\"Price($)\")\n",
    "plt.ylabel(\"Points\");"
   ]
  },
  {
   "cell_type": "markdown",
   "id": "ef9133be",
   "metadata": {},
   "source": [
    "The plot has made it clear that there is a positive relationship between the Points and Prices. The more expensive the wines the better ratings.  "
   ]
  },
  {
   "cell_type": "code",
   "execution_count": 109,
   "id": "5327c7f1",
   "metadata": {},
   "outputs": [
    {
     "data": {
      "text/html": [
       "<div>\n",
       "<style scoped>\n",
       "    .dataframe tbody tr th:only-of-type {\n",
       "        vertical-align: middle;\n",
       "    }\n",
       "\n",
       "    .dataframe tbody tr th {\n",
       "        vertical-align: top;\n",
       "    }\n",
       "\n",
       "    .dataframe thead th {\n",
       "        text-align: right;\n",
       "    }\n",
       "</style>\n",
       "<table border=\"1\" class=\"dataframe\">\n",
       "  <thead>\n",
       "    <tr style=\"text-align: right;\">\n",
       "      <th></th>\n",
       "      <th>country</th>\n",
       "      <th>description</th>\n",
       "      <th>points</th>\n",
       "      <th>price</th>\n",
       "      <th>province</th>\n",
       "      <th>region_1</th>\n",
       "      <th>title</th>\n",
       "      <th>variety</th>\n",
       "      <th>winery</th>\n",
       "      <th>year</th>\n",
       "    </tr>\n",
       "  </thead>\n",
       "  <tbody>\n",
       "    <tr>\n",
       "      <th>1987</th>\n",
       "      <td>Spain</td>\n",
       "      <td>Berry and cherry aromas are surprisingly sturdy and clean. Freshness is maintained on the palate, which is honest enough to offer modest tannic bite. Lightly spiced plum and raspberry flavors change little on an easy finish.</td>\n",
       "      <td>85</td>\n",
       "      <td>4.0</td>\n",
       "      <td>Central Spain</td>\n",
       "      <td>Vino de la Tierra de Castilla</td>\n",
       "      <td>Felix Solis 2013 Flirty Bird Syrah (Vino de la Tierra de Castilla)</td>\n",
       "      <td>Syrah</td>\n",
       "      <td>Felix Solis</td>\n",
       "      <td>2013</td>\n",
       "    </tr>\n",
       "  </tbody>\n",
       "</table>\n",
       "</div>"
      ],
      "text/plain": [
       "     country  \\\n",
       "1987   Spain   \n",
       "\n",
       "                                                                                                                                                                                                                           description  \\\n",
       "1987  Berry and cherry aromas are surprisingly sturdy and clean. Freshness is maintained on the palate, which is honest enough to offer modest tannic bite. Lightly spiced plum and raspberry flavors change little on an easy finish.   \n",
       "\n",
       "      points  price       province                       region_1  \\\n",
       "1987      85    4.0  Central Spain  Vino de la Tierra de Castilla   \n",
       "\n",
       "                                                                   title  \\\n",
       "1987  Felix Solis 2013 Flirty Bird Syrah (Vino de la Tierra de Castilla)   \n",
       "\n",
       "     variety       winery  year  \n",
       "1987   Syrah  Felix Solis  2013  "
      ]
     },
     "execution_count": 109,
     "metadata": {},
     "output_type": "execute_result"
    }
   ],
   "source": [
    "# The lowest priced wine\n",
    "df1.loc[[df1['price'].idxmin()]]"
   ]
  },
  {
   "cell_type": "code",
   "execution_count": 110,
   "id": "6899895b",
   "metadata": {
    "scrolled": true
   },
   "outputs": [
    {
     "data": {
      "text/html": [
       "<div>\n",
       "<style scoped>\n",
       "    .dataframe tbody tr th:only-of-type {\n",
       "        vertical-align: middle;\n",
       "    }\n",
       "\n",
       "    .dataframe tbody tr th {\n",
       "        vertical-align: top;\n",
       "    }\n",
       "\n",
       "    .dataframe thead th {\n",
       "        text-align: right;\n",
       "    }\n",
       "</style>\n",
       "<table border=\"1\" class=\"dataframe\">\n",
       "  <thead>\n",
       "    <tr style=\"text-align: right;\">\n",
       "      <th></th>\n",
       "      <th>country</th>\n",
       "      <th>description</th>\n",
       "      <th>points</th>\n",
       "      <th>price</th>\n",
       "      <th>province</th>\n",
       "      <th>region_1</th>\n",
       "      <th>title</th>\n",
       "      <th>variety</th>\n",
       "      <th>winery</th>\n",
       "      <th>year</th>\n",
       "    </tr>\n",
       "  </thead>\n",
       "  <tbody>\n",
       "    <tr>\n",
       "      <th>80290</th>\n",
       "      <td>France</td>\n",
       "      <td>This ripe wine shows plenty of blackberry fruits balanced well with some dry tannins. It is fresh, juicy with plenty of acidity, For a light vintage, it's perfumed, full of fresh flavors and will be ready to drink from 2017.</td>\n",
       "      <td>88</td>\n",
       "      <td>3300.0</td>\n",
       "      <td>Bordeaux</td>\n",
       "      <td>Médoc</td>\n",
       "      <td>Château les Ormes Sorbet 2013  Médoc</td>\n",
       "      <td>Bordeaux-style Red Blend</td>\n",
       "      <td>Château les Ormes Sorbet</td>\n",
       "      <td>2013</td>\n",
       "    </tr>\n",
       "  </tbody>\n",
       "</table>\n",
       "</div>"
      ],
      "text/plain": [
       "      country  \\\n",
       "80290  France   \n",
       "\n",
       "                                                                                                                                                                                                                            description  \\\n",
       "80290  This ripe wine shows plenty of blackberry fruits balanced well with some dry tannins. It is fresh, juicy with plenty of acidity, For a light vintage, it's perfumed, full of fresh flavors and will be ready to drink from 2017.   \n",
       "\n",
       "       points   price  province region_1  \\\n",
       "80290      88  3300.0  Bordeaux    Médoc   \n",
       "\n",
       "                                      title                   variety  \\\n",
       "80290  Château les Ormes Sorbet 2013  Médoc  Bordeaux-style Red Blend   \n",
       "\n",
       "                         winery  year  \n",
       "80290  Château les Ormes Sorbet  2013  "
      ]
     },
     "execution_count": 110,
     "metadata": {},
     "output_type": "execute_result"
    }
   ],
   "source": [
    "# The highest priced wine\n",
    "df1.loc[[df1['price'].idxmax()]]"
   ]
  },
  {
   "cell_type": "code",
   "execution_count": 143,
   "id": "1feef8a8",
   "metadata": {},
   "outputs": [
    {
     "data": {
      "text/html": [
       "<div>\n",
       "<style scoped>\n",
       "    .dataframe tbody tr th:only-of-type {\n",
       "        vertical-align: middle;\n",
       "    }\n",
       "\n",
       "    .dataframe tbody tr th {\n",
       "        vertical-align: top;\n",
       "    }\n",
       "\n",
       "    .dataframe thead th {\n",
       "        text-align: right;\n",
       "    }\n",
       "</style>\n",
       "<table border=\"1\" class=\"dataframe\">\n",
       "  <thead>\n",
       "    <tr style=\"text-align: right;\">\n",
       "      <th></th>\n",
       "      <th>country</th>\n",
       "      <th>description</th>\n",
       "      <th>points</th>\n",
       "      <th>price</th>\n",
       "      <th>province</th>\n",
       "      <th>region_1</th>\n",
       "      <th>title</th>\n",
       "      <th>variety</th>\n",
       "      <th>winery</th>\n",
       "      <th>year</th>\n",
       "    </tr>\n",
       "  </thead>\n",
       "  <tbody>\n",
       "    <tr>\n",
       "      <th>1987</th>\n",
       "      <td>Spain</td>\n",
       "      <td>Berry and cherry aromas are surprisingly sturdy and clean. Freshness is maintained on the palate, which is honest enough to offer modest tannic bite. Lightly spiced plum and raspberry flavors change little on an easy finish.</td>\n",
       "      <td>85</td>\n",
       "      <td>4.0</td>\n",
       "      <td>Central Spain</td>\n",
       "      <td>Vino de la Tierra de Castilla</td>\n",
       "      <td>Felix Solis 2013 Flirty Bird Syrah (Vino de la Tierra de Castilla)</td>\n",
       "      <td>Syrah</td>\n",
       "      <td>Felix Solis</td>\n",
       "      <td>2013</td>\n",
       "    </tr>\n",
       "  </tbody>\n",
       "</table>\n",
       "</div>"
      ],
      "text/plain": [
       "     country  \\\n",
       "1987   Spain   \n",
       "\n",
       "                                                                                                                                                                                                                           description  \\\n",
       "1987  Berry and cherry aromas are surprisingly sturdy and clean. Freshness is maintained on the palate, which is honest enough to offer modest tannic bite. Lightly spiced plum and raspberry flavors change little on an easy finish.   \n",
       "\n",
       "      points  price       province                       region_1  \\\n",
       "1987      85    4.0  Central Spain  Vino de la Tierra de Castilla   \n",
       "\n",
       "                                                                   title  \\\n",
       "1987  Felix Solis 2013 Flirty Bird Syrah (Vino de la Tierra de Castilla)   \n",
       "\n",
       "     variety       winery  year  \n",
       "1987   Syrah  Felix Solis  2013  "
      ]
     },
     "execution_count": 143,
     "metadata": {},
     "output_type": "execute_result"
    }
   ],
   "source": [
    "# The lowest priced wine\n",
    "df1[df1['price']==df['price'].min()][:1]"
   ]
  },
  {
   "cell_type": "code",
   "execution_count": 122,
   "id": "5e015a13",
   "metadata": {},
   "outputs": [
    {
     "data": {
      "text/html": [
       "<div>\n",
       "<style scoped>\n",
       "    .dataframe tbody tr th:only-of-type {\n",
       "        vertical-align: middle;\n",
       "    }\n",
       "\n",
       "    .dataframe tbody tr th {\n",
       "        vertical-align: top;\n",
       "    }\n",
       "\n",
       "    .dataframe thead th {\n",
       "        text-align: right;\n",
       "    }\n",
       "</style>\n",
       "<table border=\"1\" class=\"dataframe\">\n",
       "  <thead>\n",
       "    <tr style=\"text-align: right;\">\n",
       "      <th></th>\n",
       "      <th>country</th>\n",
       "      <th>description</th>\n",
       "      <th>points</th>\n",
       "      <th>price</th>\n",
       "      <th>province</th>\n",
       "      <th>region_1</th>\n",
       "      <th>title</th>\n",
       "      <th>variety</th>\n",
       "      <th>winery</th>\n",
       "      <th>year</th>\n",
       "    </tr>\n",
       "  </thead>\n",
       "  <tbody>\n",
       "    <tr>\n",
       "      <th>80290</th>\n",
       "      <td>France</td>\n",
       "      <td>This ripe wine shows plenty of blackberry fruits balanced well with some dry tannins. It is fresh, juicy with plenty of acidity, For a light vintage, it's perfumed, full of fresh flavors and will be ready to drink from 2017.</td>\n",
       "      <td>88</td>\n",
       "      <td>3300.0</td>\n",
       "      <td>Bordeaux</td>\n",
       "      <td>Médoc</td>\n",
       "      <td>Château les Ormes Sorbet 2013  Médoc</td>\n",
       "      <td>Bordeaux-style Red Blend</td>\n",
       "      <td>Château les Ormes Sorbet</td>\n",
       "      <td>2013</td>\n",
       "    </tr>\n",
       "  </tbody>\n",
       "</table>\n",
       "</div>"
      ],
      "text/plain": [
       "      country  \\\n",
       "80290  France   \n",
       "\n",
       "                                                                                                                                                                                                                            description  \\\n",
       "80290  This ripe wine shows plenty of blackberry fruits balanced well with some dry tannins. It is fresh, juicy with plenty of acidity, For a light vintage, it's perfumed, full of fresh flavors and will be ready to drink from 2017.   \n",
       "\n",
       "       points   price  province region_1  \\\n",
       "80290      88  3300.0  Bordeaux    Médoc   \n",
       "\n",
       "                                      title                   variety  \\\n",
       "80290  Château les Ormes Sorbet 2013  Médoc  Bordeaux-style Red Blend   \n",
       "\n",
       "                         winery  year  \n",
       "80290  Château les Ormes Sorbet  2013  "
      ]
     },
     "execution_count": 122,
     "metadata": {},
     "output_type": "execute_result"
    }
   ],
   "source": [
    "# The highest priced wine\n",
    "df1[df1['price']==df['price'].max()]"
   ]
  },
  {
   "cell_type": "markdown",
   "id": "630f160e",
   "metadata": {},
   "source": [
    "### 3. Are certain varieties of Wine of Better Quality on Average?"
   ]
  },
  {
   "cell_type": "markdown",
   "id": "a69b89ed",
   "metadata": {},
   "source": [
    "It is a good start to compare the **top 20** wine types by their counts. "
   ]
  },
  {
   "cell_type": "code",
   "execution_count": 144,
   "id": "efd05f2e",
   "metadata": {},
   "outputs": [
    {
     "data": {
      "text/plain": [
       "Pinot Noir                  12785\n",
       "Chardonnay                  11077\n",
       "Cabernet Sauvignon           9384\n",
       "Red Blend                    8466\n",
       "Bordeaux-style Red Blend     5340\n",
       "Riesling                     4971\n",
       "Sauvignon Blanc              4780\n",
       "Syrah                        4086\n",
       "Rosé                         3261\n",
       "Merlot                       3061\n",
       "Zinfandel                    2708\n",
       "Malbec                       2593\n",
       "Sangiovese                   2377\n",
       "Nebbiolo                     2331\n",
       "Portuguese Red               2196\n",
       "White Blend                  2167\n",
       "Sparkling Blend              2027\n",
       "Tempranillo                  1788\n",
       "Rhône-style Red Blend        1404\n",
       "Pinot Gris                   1388\n",
       "Name: variety, dtype: int64"
      ]
     },
     "execution_count": 144,
     "metadata": {},
     "output_type": "execute_result"
    }
   ],
   "source": [
    "# top 20 wines by count\n",
    "df1.variety.value_counts()[:20]"
   ]
  },
  {
   "cell_type": "code",
   "execution_count": 148,
   "id": "7c1417f9",
   "metadata": {},
   "outputs": [
    {
     "data": {
      "image/png": "[encoded data removed]",
      "text/plain": [
       "<Figure size 1440x1296 with 1 Axes>"
      ]
     },
     "metadata": {
      "needs_background": "light"
     },
     "output_type": "display_data"
    }
   ],
   "source": [
    "# Boxplotting the top 20 most frequent wines in dataset by points scored\n",
    "plt.figure(figsize=(20,18))\n",
    "base_color = sns.color_palette()[9]\n",
    "sns.boxplot(data = df1, x = 'variety', y = 'points', color = base_color, order = df1.variety.value_counts().iloc[:20].index)\n",
    "plt.title('Points Distribution by Variety', fontsize = 18)\n",
    "plt.xlabel('Variety', fontsize = 16)\n",
    "plt.ylabel('Points', fontsize = 16)\n",
    "plt.xticks(rotation=90);"
   ]
  },
  {
   "cell_type": "markdown",
   "id": "37768115",
   "metadata": {},
   "source": [
    "Considering the top 20 most popular wines in the dataset we can conclude that **Pinor Noir** tends to perform the best with the highest average score."
   ]
  },
  {
   "cell_type": "markdown",
   "id": "b5bddae0",
   "metadata": {},
   "source": [
    "### 4. Best Wine in Each Price Bracket?"
   ]
  },
  {
   "cell_type": "markdown",
   "id": "1777d4be",
   "metadata": {},
   "source": [
    "By now we understand that quality correlates with price. However, it is not reasonable to always pick an expensive choice to impress. Depending on the night we can assess what will be the best choice that saticfies the occasion with a suitable price virsus quality. "
   ]
  },
  {
   "cell_type": "markdown",
   "id": "919f69d5",
   "metadata": {},
   "source": [
    "**Scenario 1: Let us saticfy a scenario where the price is more important than the quality: Price < 15\\$**"
   ]
  },
  {
   "cell_type": "code",
   "execution_count": 149,
   "id": "f7025021",
   "metadata": {},
   "outputs": [],
   "source": [
    "cheap = df1[df1['price']<=15]"
   ]
  },
  {
   "cell_type": "markdown",
   "id": "5e48c527",
   "metadata": {},
   "source": [
    "**Scenario 2: Let us saticfy a scenario where the quality is slightly more important than the price: Price>15$ but Price<30\\$**"
   ]
  }
 ],
 "metadata": {
  "kernelspec": {
   "display_name": "Python 3",
   "language": "python",
   "name": "python3"
  },
  "language_info": {
   "codemirror_mode": {
    "name": "ipython",
    "version": 3
   },
   "file_extension": ".py",
   "mimetype": "text/x-python",
   "name": "python",
   "nbconvert_exporter": "python",
   "pygments_lexer": "ipython3",
   "version": "3.8.8"
  }
 },
 "nbformat": 4,
 "nbformat_minor": 5
}
